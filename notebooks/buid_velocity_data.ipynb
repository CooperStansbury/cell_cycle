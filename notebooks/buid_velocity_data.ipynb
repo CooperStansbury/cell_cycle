{
 "cells": [
  {
   "cell_type": "code",
   "execution_count": 1,
   "id": "2688472a-46b3-46a6-84d9-18dee50b1437",
   "metadata": {},
   "outputs": [],
   "source": [
    "import scvelo as scv\n",
    "import scanpy as sc\n",
    "import anndata as an\n",
    "import matplotlib.pyplot as plt"
   ]
  },
  {
   "cell_type": "code",
   "execution_count": 2,
   "id": "f151318a-6eae-4588-a403-8e0f781e7dea",
   "metadata": {},
   "outputs": [
    {
     "name": "stdout",
     "output_type": "stream",
     "text": [
      "CPU times: user 549 ms, sys: 2.54 s, total: 3.08 s\n",
      "Wall time: 5.59 s\n"
     ]
    },
    {
     "data": {
      "text/plain": [
       "AnnData object with n_obs × n_vars = 15867 × 21412\n",
       "    obs: 'batch', 'phase', 'n_genes_by_counts', 'log1p_n_genes_by_counts', 'total_counts', 'log1p_total_counts', 'pct_counts_in_top_50_genes', 'pct_counts_in_top_100_genes', 'pct_counts_in_top_200_genes', 'pct_counts_in_top_500_genes', 'total_counts_mt', 'log1p_total_counts_mt', 'pct_counts_mt', 'total_counts_ribo', 'log1p_total_counts_ribo', 'pct_counts_ribo', 'total_counts_hb', 'log1p_total_counts_hb', 'pct_counts_hb', 'n_counts', 'n_genes', 'n_reads', 'raw_clusters', 'bbknn_clusters', 'harmony_clusters', 'cluster_str', 'barcoded_phase', 'S_score', 'G2M_score', 'dpt_pseudotime', 'dpt_groups', 'dpt_order', 'dpt_order_indices', 'G1_pseudotime', 'G1_order', 'G2M_pseudotime', 'G2M_order', 'mean_pseudotime', 'mean_order', 'nnz'\n",
       "    var: 'mt', 'ribo', 'hb', 'n_cells_by_counts', 'mean_counts', 'log1p_mean_counts', 'pct_dropout_by_counts', 'total_counts', 'log1p_total_counts', 'n_counts', 'highly_variable', 'means', 'dispersions', 'dispersions_norm', 'highly_variable_nbatches', 'highly_variable_intersection', 'feature_id'\n",
       "    uns: 'barcoded_phase_colors', 'batch_colors', 'bbknn_clusters_colors', 'cluster_str_colors', 'diffmap_evals', 'dpt_changepoints', 'dpt_grouptips', 'draw_graph', 'harmony_clusters_colors', 'hvg', 'iroot', 'leiden', 'log1p', 'neighbors', 'pca', 'phase_colors', 'rank_genes_groups', 'raw_clusters_colors', 'umap'\n",
       "    obsm: 'X_diffmap', 'X_draw_graph_fa', 'X_pca', 'X_pca_harmony', 'X_umap', 'X_umap_bbknn', 'X_umap_harmony', 'X_umap_raw'\n",
       "    varm: 'PCs'\n",
       "    layers: 'log_norm', 'raw_counts'\n",
       "    obsp: 'connectivities', 'distances'"
      ]
     },
     "execution_count": 2,
     "metadata": {},
     "output_type": "execute_result"
    }
   ],
   "source": [
    "%%time\n",
    "fpath = \"/nfs/turbo/umms-indikar/shared/projects/HSC/pipeline_outputs/integrated_anndata/pseudotime.h5ad\"\n",
    "adata = sc.read_h5ad(fpath)\n",
    "adata.X = adata.layers['raw_counts'].copy()\n",
    "adata"
   ]
  },
  {
   "cell_type": "code",
   "execution_count": 3,
   "id": "e39bf8ef-8a47-4183-8a14-e8ae2078ad9a",
   "metadata": {},
   "outputs": [
    {
     "name": "stdout",
     "output_type": "stream",
     "text": [
      "Working fib...\n",
      "\tInitial cell count in ldata: 8963\n",
      "\tInitial cell count in adata: 15867\n",
      "\tFiltered ldata: 7541 cells kept, 1422 cells removed\n",
      "CPU times: user 20.1 s, sys: 8.67 s, total: 28.7 s\n",
      "Wall time: 30.4 s\n"
     ]
    },
    {
     "data": {
      "text/plain": [
       "AnnData object with n_obs × n_vars = 7541 × 21412\n",
       "    obs: 'batch', 'phase', 'n_genes_by_counts', 'log1p_n_genes_by_counts', 'total_counts', 'log1p_total_counts', 'pct_counts_in_top_50_genes', 'pct_counts_in_top_100_genes', 'pct_counts_in_top_200_genes', 'pct_counts_in_top_500_genes', 'total_counts_mt', 'log1p_total_counts_mt', 'pct_counts_mt', 'total_counts_ribo', 'log1p_total_counts_ribo', 'pct_counts_ribo', 'total_counts_hb', 'log1p_total_counts_hb', 'pct_counts_hb', 'n_counts', 'n_genes', 'n_reads', 'raw_clusters', 'bbknn_clusters', 'harmony_clusters', 'cluster_str', 'barcoded_phase', 'S_score', 'G2M_score', 'dpt_pseudotime', 'dpt_groups', 'dpt_order', 'dpt_order_indices', 'G1_pseudotime', 'G1_order', 'G2M_pseudotime', 'G2M_order', 'mean_pseudotime', 'mean_order', 'nnz', 'velocyto_cell_id', 'cell_id', 'initial_size_unspliced', 'initial_size_spliced', 'initial_size'\n",
       "    var: 'mt', 'ribo', 'hb', 'n_cells_by_counts', 'mean_counts', 'log1p_mean_counts', 'pct_dropout_by_counts', 'total_counts', 'log1p_total_counts', 'n_counts', 'highly_variable', 'means', 'dispersions', 'dispersions_norm', 'highly_variable_nbatches', 'highly_variable_intersection', 'feature_id'\n",
       "    uns: 'barcoded_phase_colors', 'batch_colors', 'bbknn_clusters_colors', 'cluster_str_colors', 'diffmap_evals', 'dpt_changepoints', 'dpt_grouptips', 'draw_graph', 'harmony_clusters_colors', 'hvg', 'iroot', 'leiden', 'log1p', 'neighbors', 'pca', 'phase_colors', 'rank_genes_groups', 'raw_clusters_colors', 'umap'\n",
       "    obsm: 'X_diffmap', 'X_draw_graph_fa', 'X_pca', 'X_pca_harmony', 'X_umap', 'X_umap_bbknn', 'X_umap_harmony', 'X_umap_raw'\n",
       "    varm: 'PCs'\n",
       "    layers: 'log_norm', 'raw_counts', 'matrix', 'ambiguous', 'spliced', 'unspliced'\n",
       "    obsp: 'connectivities', 'distances'"
      ]
     },
     "execution_count": 3,
     "metadata": {},
     "output_type": "execute_result"
    }
   ],
   "source": [
    "%%time\n",
    "\n",
    "fpaths = {\n",
    "    \"fib\" : \"/scratch/indikar_root/indikar1/shared_data/fib_velocyto/merged_PW6SH.loom\",\n",
    "}\n",
    "\n",
    "ldatas = []\n",
    "for key, fpath in fpaths.items():\n",
    "    print(f\"Working {key}...\")\n",
    "\n",
    "    ldata = sc.read_loom(fpath)\n",
    "    ldata.var_names_make_unique()\n",
    "\n",
    "    # set the cell-ids back to barcodes\n",
    "    ldata.obs['velocyto_cell_id'] = ldata.obs_names.copy()\n",
    "    ldata.obs['cell_id'] = ldata.obs['velocyto_cell_id'].apply(lambda x: x.split(\":\")[1][:-1] + \"-1\")\n",
    "    ldata.obs_names = ldata.obs['cell_id'].values\n",
    "\n",
    "    # Print initial cell counts\n",
    "    print(f\"\\tInitial cell count in ldata: {ldata.shape[0]}\")\n",
    "    print(f\"\\tInitial cell count in adata: {adata.shape[0]}\")\n",
    "    \n",
    "    # IDs not retained in ldata\n",
    "    removed_from_ldata = ldata.obs.index[~ldata.obs.index.isin(adata.obs_names)].tolist()\n",
    "    \n",
    "    # IDs not retained in adata\n",
    "    removed_from_adata = adata.obs.index[~adata.obs.index.isin(ldata.obs_names)].tolist()\n",
    "    \n",
    "    # Filter ldata to keep only cells present in adata\n",
    "    initial_ldata_count = ldata.shape[0]\n",
    "    ldata = ldata[ldata.obs.index.isin(adata.obs_names), :].copy()\n",
    "    print(f\"\\tFiltered ldata: {ldata.shape[0]} cells kept, {initial_ldata_count - ldata.shape[0]} cells removed\")\n",
    "\n",
    "    ldatas.append(ldata)\n",
    "\n",
    "ldata = an.concat(ldatas)   \n",
    "adata = scv.utils.merge(adata, ldata)\n",
    "adata"
   ]
  },
  {
   "cell_type": "markdown",
   "id": "7d1dea63-0ed7-4220-8c75-08fe4b4fc6ed",
   "metadata": {},
   "source": [
    "# Filter and save"
   ]
  },
  {
   "cell_type": "code",
   "execution_count": 4,
   "id": "d43fee7d-e4e5-4072-9701-ea3052380e4d",
   "metadata": {},
   "outputs": [
    {
     "data": {
      "text/plain": [
       "AnnData object with n_obs × n_vars = 7541 × 21412\n",
       "    obs: 'batch', 'phase', 'n_genes_by_counts', 'log1p_n_genes_by_counts', 'total_counts', 'log1p_total_counts', 'pct_counts_in_top_50_genes', 'pct_counts_in_top_100_genes', 'pct_counts_in_top_200_genes', 'pct_counts_in_top_500_genes', 'total_counts_mt', 'log1p_total_counts_mt', 'pct_counts_mt', 'total_counts_ribo', 'log1p_total_counts_ribo', 'pct_counts_ribo', 'total_counts_hb', 'log1p_total_counts_hb', 'pct_counts_hb', 'n_counts', 'n_genes', 'n_reads', 'raw_clusters', 'bbknn_clusters', 'harmony_clusters', 'cluster_str', 'barcoded_phase', 'S_score', 'G2M_score', 'dpt_pseudotime', 'dpt_groups', 'dpt_order', 'dpt_order_indices', 'G1_pseudotime', 'G1_order', 'G2M_pseudotime', 'G2M_order', 'mean_pseudotime', 'mean_order', 'nnz', 'velocyto_cell_id', 'cell_id', 'initial_size_unspliced', 'initial_size_spliced', 'initial_size'\n",
       "    var: 'mt', 'ribo', 'hb', 'n_cells_by_counts', 'mean_counts', 'log1p_mean_counts', 'pct_dropout_by_counts', 'total_counts', 'log1p_total_counts', 'n_counts', 'highly_variable', 'means', 'dispersions', 'dispersions_norm', 'highly_variable_nbatches', 'highly_variable_intersection', 'feature_id'\n",
       "    uns: 'barcoded_phase_colors', 'batch_colors', 'bbknn_clusters_colors', 'cluster_str_colors', 'diffmap_evals', 'dpt_changepoints', 'dpt_grouptips', 'draw_graph', 'harmony_clusters_colors', 'hvg', 'iroot', 'leiden', 'log1p', 'neighbors', 'pca', 'phase_colors', 'rank_genes_groups', 'raw_clusters_colors', 'umap'\n",
       "    obsm: 'X_diffmap', 'X_draw_graph_fa', 'X_pca', 'X_pca_harmony', 'X_umap', 'X_umap_bbknn', 'X_umap_harmony', 'X_umap_raw'\n",
       "    varm: 'PCs'\n",
       "    layers: 'log_norm', 'raw_counts', 'matrix', 'ambiguous', 'spliced', 'unspliced'\n",
       "    obsp: 'connectivities', 'distances'"
      ]
     },
     "execution_count": 4,
     "metadata": {},
     "output_type": "execute_result"
    }
   ],
   "source": [
    "adata = adata[adata.obs['batch'] == 'fib', :].copy()\n",
    "adata"
   ]
  },
  {
   "cell_type": "code",
   "execution_count": 5,
   "id": "8c1cb212-ddcf-4422-b024-1adb6ad9b0b1",
   "metadata": {},
   "outputs": [
    {
     "name": "stdout",
     "output_type": "stream",
     "text": [
      "CPU times: user 435 ms, sys: 972 ms, total: 1.41 s\n",
      "Wall time: 7.49 s\n"
     ]
    },
    {
     "data": {
      "text/plain": [
       "AnnData object with n_obs × n_vars = 7541 × 21412\n",
       "    obs: 'batch', 'phase', 'n_genes_by_counts', 'log1p_n_genes_by_counts', 'total_counts', 'log1p_total_counts', 'pct_counts_in_top_50_genes', 'pct_counts_in_top_100_genes', 'pct_counts_in_top_200_genes', 'pct_counts_in_top_500_genes', 'total_counts_mt', 'log1p_total_counts_mt', 'pct_counts_mt', 'total_counts_ribo', 'log1p_total_counts_ribo', 'pct_counts_ribo', 'total_counts_hb', 'log1p_total_counts_hb', 'pct_counts_hb', 'n_counts', 'n_genes', 'n_reads', 'raw_clusters', 'bbknn_clusters', 'harmony_clusters', 'cluster_str', 'barcoded_phase', 'S_score', 'G2M_score', 'dpt_pseudotime', 'dpt_groups', 'dpt_order', 'dpt_order_indices', 'G1_pseudotime', 'G1_order', 'G2M_pseudotime', 'G2M_order', 'mean_pseudotime', 'mean_order', 'nnz', 'velocyto_cell_id', 'cell_id', 'initial_size_unspliced', 'initial_size_spliced', 'initial_size'\n",
       "    var: 'mt', 'ribo', 'hb', 'n_cells_by_counts', 'mean_counts', 'log1p_mean_counts', 'pct_dropout_by_counts', 'total_counts', 'log1p_total_counts', 'n_counts', 'highly_variable', 'means', 'dispersions', 'dispersions_norm', 'highly_variable_nbatches', 'highly_variable_intersection', 'feature_id'\n",
       "    uns: 'barcoded_phase_colors', 'batch_colors', 'bbknn_clusters_colors', 'cluster_str_colors', 'diffmap_evals', 'dpt_changepoints', 'dpt_grouptips', 'draw_graph', 'harmony_clusters_colors', 'hvg', 'iroot', 'leiden', 'log1p', 'neighbors', 'pca', 'phase_colors', 'rank_genes_groups', 'raw_clusters_colors', 'umap'\n",
       "    obsm: 'X_diffmap', 'X_draw_graph_fa', 'X_pca', 'X_pca_harmony', 'X_umap', 'X_umap_bbknn', 'X_umap_harmony', 'X_umap_raw'\n",
       "    varm: 'PCs'\n",
       "    layers: 'log_norm', 'raw_counts', 'matrix', 'ambiguous', 'spliced', 'unspliced'\n",
       "    obsp: 'connectivities', 'distances'"
      ]
     },
     "execution_count": 5,
     "metadata": {},
     "output_type": "execute_result"
    }
   ],
   "source": [
    "%%time\n",
    "outpath = \"/nfs/turbo/umms-indikar/shared/projects/HSC/pipeline_outputs/integrated_anndata/cell_cycle_velocity.h5ad\"\n",
    "adata.write(outpath)\n",
    "adata"
   ]
  },
  {
   "cell_type": "code",
   "execution_count": null,
   "id": "18b1f22b-7ebd-4296-abf4-64b6bba7f7a5",
   "metadata": {},
   "outputs": [],
   "source": []
  }
 ],
 "metadata": {
  "kernelspec": {
   "display_name": "scvelo",
   "language": "python",
   "name": "scvelo"
  },
  "language_info": {
   "codemirror_mode": {
    "name": "ipython",
    "version": 3
   },
   "file_extension": ".py",
   "mimetype": "text/x-python",
   "name": "python",
   "nbconvert_exporter": "python",
   "pygments_lexer": "ipython3",
   "version": "3.13.5"
  }
 },
 "nbformat": 4,
 "nbformat_minor": 5
}
